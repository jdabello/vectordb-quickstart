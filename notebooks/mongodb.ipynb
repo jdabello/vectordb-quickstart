{
 "cells": [
  {
   "cell_type": "markdown",
   "metadata": {},
   "source": [
    "# MongoDB - Vector DB Quickstart"
   ]
  },
  {
   "cell_type": "markdown",
   "metadata": {},
   "source": [
    "### 1. Install Python Dependencies"
   ]
  },
  {
   "cell_type": "code",
   "execution_count": 2,
   "metadata": {},
   "outputs": [
    {
     "name": "stdout",
     "output_type": "stream",
     "text": [
      "Requirement already satisfied: pymongo in /Users/juan.abello/.pyenv/versions/3.8.16/lib/python3.8/site-packages (4.5.0)\n",
      "Requirement already satisfied: numpy in /Users/juan.abello/.pyenv/versions/3.8.16/lib/python3.8/site-packages (1.24.4)\n",
      "Requirement already satisfied: scipy in /Users/juan.abello/.pyenv/versions/3.8.16/lib/python3.8/site-packages (1.10.1)\n",
      "Requirement already satisfied: matplotlib in /Users/juan.abello/.pyenv/versions/3.8.16/lib/python3.8/site-packages (3.7.3)\n",
      "Requirement already satisfied: dnspython<3.0.0,>=1.16.0 in /Users/juan.abello/.pyenv/versions/3.8.16/lib/python3.8/site-packages (from pymongo) (2.4.2)\n",
      "Requirement already satisfied: cycler>=0.10 in /Users/juan.abello/.pyenv/versions/3.8.16/lib/python3.8/site-packages (from matplotlib) (0.11.0)\n",
      "Requirement already satisfied: importlib-resources>=3.2.0 in /Users/juan.abello/.pyenv/versions/3.8.16/lib/python3.8/site-packages (from matplotlib) (6.1.0)\n",
      "Requirement already satisfied: contourpy>=1.0.1 in /Users/juan.abello/.pyenv/versions/3.8.16/lib/python3.8/site-packages (from matplotlib) (1.1.1)\n",
      "Requirement already satisfied: pillow>=6.2.0 in /Users/juan.abello/.pyenv/versions/3.8.16/lib/python3.8/site-packages (from matplotlib) (10.0.1)\n",
      "Requirement already satisfied: kiwisolver>=1.0.1 in /Users/juan.abello/.pyenv/versions/3.8.16/lib/python3.8/site-packages (from matplotlib) (1.4.5)\n",
      "Requirement already satisfied: fonttools>=4.22.0 in /Users/juan.abello/.pyenv/versions/3.8.16/lib/python3.8/site-packages (from matplotlib) (4.42.1)\n",
      "Requirement already satisfied: python-dateutil>=2.7 in /Users/juan.abello/.pyenv/versions/3.8.16/lib/python3.8/site-packages (from matplotlib) (2.8.2)\n",
      "Requirement already satisfied: pyparsing>=2.3.1 in /Users/juan.abello/.pyenv/versions/3.8.16/lib/python3.8/site-packages (from matplotlib) (3.1.1)\n",
      "Requirement already satisfied: packaging>=20.0 in /Users/juan.abello/.pyenv/versions/3.8.16/lib/python3.8/site-packages (from matplotlib) (23.1)\n",
      "Requirement already satisfied: zipp>=3.1.0 in /Users/juan.abello/.pyenv/versions/3.8.16/lib/python3.8/site-packages (from importlib-resources>=3.2.0->matplotlib) (3.17.0)\n",
      "Requirement already satisfied: six>=1.5 in /Users/juan.abello/.pyenv/versions/3.8.16/lib/python3.8/site-packages (from python-dateutil>=2.7->matplotlib) (1.16.0)\n",
      "\u001b[33mWARNING: You are using pip version 22.0.4; however, version 23.2.1 is available.\n",
      "You should consider upgrading via the '/Users/juan.abello/.pyenv/versions/3.8.16/bin/python3.8 -m pip install --upgrade pip' command.\u001b[0m\u001b[33m\n",
      "\u001b[0m"
     ]
    }
   ],
   "source": [
    "!pip install pymongo numpy scipy matplotlib"
   ]
  },
  {
   "cell_type": "markdown",
   "metadata": {},
   "source": [
    "### 2. Get DB Connection and Create Vector DB"
   ]
  },
  {
   "cell_type": "code",
   "execution_count": 6,
   "metadata": {},
   "outputs": [],
   "source": [
    "from getpass import getpass\n",
    "ATLAS_CONNECTION_STRING = getpass(\"Please provide your connection string. Make sure to update <password> to a valid value: \")"
   ]
  },
  {
   "cell_type": "code",
   "execution_count": 7,
   "metadata": {},
   "outputs": [],
   "source": [
    "from pymongo import IndexModel\n",
    "from pymongo.mongo_client import MongoClient\n",
    "from pymongo.server_api import ServerApi\n",
    "import numpy as np\n",
    "from scipy import spatial\n",
    "import matplotlib.pyplot as plt\n",
    "\n",
    "# Create a new client and connect to the server\n",
    "client = MongoClient(ATLAS_CONNECTION_STRING, server_api=ServerApi('1'))\n",
    "\n",
    "db = client[\"vector_db\"]\n",
    "\n",
    "# Create a vector database\n",
    "vector_db = db[\"vector_collection\"]"
   ]
  },
  {
   "cell_type": "markdown",
   "metadata": {},
   "source": [
    "### 3. Insert Documents into DB"
   ]
  },
  {
   "cell_type": "code",
   "execution_count": 8,
   "metadata": {},
   "outputs": [],
   "source": [
    "# Insert documents into the vector database\n",
    "documents = [\n",
    "    {\"name\": \"Alice\", \"vector\": np.array([1, 2]).tolist()},\n",
    "    {\"name\": \"Bob\", \"vector\": np.array([3, 4]).tolist()},\n",
    "    {\"name\": \"Carol\", \"vector\": np.array([5, 6]).tolist()},\n",
    "]\n",
    "\n",
    "for document in documents:\n",
    "    vector_db.insert_one(document)"
   ]
  },
  {
   "cell_type": "markdown",
   "metadata": {},
   "source": [
    "### 4. Retrieve Documents from DB"
   ]
  },
  {
   "cell_type": "code",
   "execution_count": 9,
   "metadata": {},
   "outputs": [
    {
     "data": {
      "image/png": "[encoded data removed]",
      "text/plain": [
       "<Figure size 640x480 with 1 Axes>"
      ]
     },
     "metadata": {},
     "output_type": "display_data"
    }
   ],
   "source": [
    "# Retrieve documents from the vector database\n",
    "cursor = vector_db.find()\n",
    "documents = [document for document in cursor]\n",
    "\n",
    "# Perform vector operations on the documents\n",
    "# Calculate the cosine similarity between Alice and Bob\n",
    "cosine_similarity = spatial.distance.cosine(documents[0][\"vector\"], documents[1][\"vector\"])\n",
    "\n",
    "# Visualize the results\n",
    "plt.figure()\n",
    "plt.scatter([document[\"vector\"][0] for document in documents], [document[\"vector\"][1] for document in documents])\n",
    "plt.xlabel(\"Vector X\")\n",
    "plt.ylabel(\"Vector Y\")\n",
    "plt.title(\"Vector Database Example\")\n",
    "plt.show()"
   ]
  },
  {
   "cell_type": "markdown",
   "metadata": {},
   "source": [
    "### 5. ANN Search Using the PyMongo driver"
   ]
  },
  {
   "cell_type": "code",
   "execution_count": 10,
   "metadata": {},
   "outputs": [
    {
     "name": "stdout",
     "output_type": "stream",
     "text": [
      "1. [1, 2]\n",
      "2. [1, 2]\n",
      "3. [3, 4]\n",
      "4. [3, 4]\n",
      "5. [5, 6]\n",
      "6. [5, 6]\n"
     ]
    }
   ],
   "source": [
    "# Create a query vector\n",
    "query_vector = np.array([1, 2])\n",
    "\n",
    "# Calculate the cosine similarity between the query vector and all of the vectors in the database\n",
    "cosine_similarities = []\n",
    "\n",
    "for document in vector_db.find():\n",
    "    cosine_similarity = spatial.distance.cosine(query_vector, document[\"vector\"])\n",
    "    cosine_similarities.append(cosine_similarity)\n",
    "\n",
    "# Create a dictionary to map document IDs to cosine similarities\n",
    "cosine_similarity_dict = {}\n",
    "\n",
    "for i in range(len(cosine_similarities)):\n",
    "    cosine_similarity_dict[vector_db.find()[i][\"_id\"]] = cosine_similarities[i]\n",
    "\n",
    "# Sort the documents by cosine similarity\n",
    "sorted_vectors = sorted(vector_db.find(), key=lambda document: cosine_similarity_dict[document[\"_id\"]])\n",
    "\n",
    "# Return the top N vectors from the list\n",
    "top_n_vectors = sorted_vectors[:10]\n",
    "\n",
    "# Print the top N vectors\n",
    "for i,vector in enumerate(top_n_vectors):\n",
    "    print(f\"{i+1}. {vector['vector']}\")"
   ]
  },
  {
   "cell_type": "markdown",
   "metadata": {},
   "source": [
    "### 6. ANN Search Using a Vector Search Index"
   ]
  },
  {
   "cell_type": "code",
   "execution_count": 11,
   "metadata": {},
   "outputs": [],
   "source": [
    "# Create a query vector\n",
    "query_vector = np.array([1, 2])\n",
    "\n",
    "# Perform a vector search\n",
    "results = vector_db.find({\"vector\": {\"knnBeta\": query_vector.tolist()}})\n",
    "\n",
    "# Print the results\n",
    "for result in results:\n",
    "    print(result[\"vector\"])"
   ]
  }
 ],
 "metadata": {
  "kernelspec": {
   "display_name": "Python 3",
   "language": "python",
   "name": "python3"
  },
  "language_info": {
   "codemirror_mode": {
    "name": "ipython",
    "version": 3
   },
   "file_extension": ".py",
   "mimetype": "text/x-python",
   "name": "python",
   "nbconvert_exporter": "python",
   "pygments_lexer": "ipython3",
   "version": "3.8.16"
  },
  "orig_nbformat": 4
 },
 "nbformat": 4,
 "nbformat_minor": 2
}
