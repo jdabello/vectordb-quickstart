{
 "cells": [
  {
   "cell_type": "code",
   "execution_count": 13,
   "metadata": {},
   "outputs": [
    {
     "name": "stdout",
     "output_type": "stream",
     "text": [
      "Requirement already satisfied: supabase in /Users/juan.abello/.pyenv/versions/3.8.16/lib/python3.8/site-packages (1.0.4)\n",
      "Requirement already satisfied: numpy in /Users/juan.abello/.pyenv/versions/3.8.16/lib/python3.8/site-packages (1.24.4)\n",
      "Requirement already satisfied: gotrue<2.0.0,>=1.0.3 in /Users/juan.abello/.pyenv/versions/3.8.16/lib/python3.8/site-packages (from supabase) (1.1.0)\n",
      "Requirement already satisfied: supafunc<0.3.0,>=0.2.3 in /Users/juan.abello/.pyenv/versions/3.8.16/lib/python3.8/site-packages (from supabase) (0.2.3)\n",
      "Requirement already satisfied: httpx<0.25.0,>=0.24.0 in /Users/juan.abello/.pyenv/versions/3.8.16/lib/python3.8/site-packages (from supabase) (0.24.1)\n",
      "Requirement already satisfied: storage3<0.6.0,>=0.5.3 in /Users/juan.abello/.pyenv/versions/3.8.16/lib/python3.8/site-packages (from supabase) (0.5.4)\n",
      "Requirement already satisfied: postgrest<0.11.0,>=0.10.8 in /Users/juan.abello/.pyenv/versions/3.8.16/lib/python3.8/site-packages (from supabase) (0.10.8)\n",
      "Requirement already satisfied: realtime<2.0.0,>=1.0.0 in /Users/juan.abello/.pyenv/versions/3.8.16/lib/python3.8/site-packages (from supabase) (1.0.0)\n",
      "Requirement already satisfied: pydantic<3,>=1.10 in /Users/juan.abello/.pyenv/versions/3.8.16/lib/python3.8/site-packages (from gotrue<2.0.0,>=1.0.3->supabase) (2.3.0)\n",
      "Requirement already satisfied: certifi in /Users/juan.abello/.pyenv/versions/3.8.16/lib/python3.8/site-packages (from httpx<0.25.0,>=0.24.0->supabase) (2023.7.22)\n",
      "Requirement already satisfied: sniffio in /Users/juan.abello/.pyenv/versions/3.8.16/lib/python3.8/site-packages (from httpx<0.25.0,>=0.24.0->supabase) (1.3.0)\n",
      "Requirement already satisfied: idna in /Users/juan.abello/.pyenv/versions/3.8.16/lib/python3.8/site-packages (from httpx<0.25.0,>=0.24.0->supabase) (3.4)\n",
      "Requirement already satisfied: httpcore<0.18.0,>=0.15.0 in /Users/juan.abello/.pyenv/versions/3.8.16/lib/python3.8/site-packages (from httpx<0.25.0,>=0.24.0->supabase) (0.17.3)\n",
      "Requirement already satisfied: strenum<0.5.0,>=0.4.9 in /Users/juan.abello/.pyenv/versions/3.8.16/lib/python3.8/site-packages (from postgrest<0.11.0,>=0.10.8->supabase) (0.4.15)\n",
      "Requirement already satisfied: deprecation<3.0.0,>=2.1.0 in /Users/juan.abello/.pyenv/versions/3.8.16/lib/python3.8/site-packages (from postgrest<0.11.0,>=0.10.8->supabase) (2.1.0)\n",
      "Requirement already satisfied: typing-extensions<5.0.0,>=4.2.0 in /Users/juan.abello/.pyenv/versions/3.8.16/lib/python3.8/site-packages (from realtime<2.0.0,>=1.0.0->supabase) (4.8.0)\n",
      "Requirement already satisfied: websockets<11.0,>=10.3 in /Users/juan.abello/.pyenv/versions/3.8.16/lib/python3.8/site-packages (from realtime<2.0.0,>=1.0.0->supabase) (10.4)\n",
      "Requirement already satisfied: python-dateutil<3.0.0,>=2.8.1 in /Users/juan.abello/.pyenv/versions/3.8.16/lib/python3.8/site-packages (from realtime<2.0.0,>=1.0.0->supabase) (2.8.2)\n",
      "Requirement already satisfied: packaging in /Users/juan.abello/.pyenv/versions/3.8.16/lib/python3.8/site-packages (from deprecation<3.0.0,>=2.1.0->postgrest<0.11.0,>=0.10.8->supabase) (23.1)\n",
      "Requirement already satisfied: h11<0.15,>=0.13 in /Users/juan.abello/.pyenv/versions/3.8.16/lib/python3.8/site-packages (from httpcore<0.18.0,>=0.15.0->httpx<0.25.0,>=0.24.0->supabase) (0.14.0)\n",
      "Requirement already satisfied: anyio<5.0,>=3.0 in /Users/juan.abello/.pyenv/versions/3.8.16/lib/python3.8/site-packages (from httpcore<0.18.0,>=0.15.0->httpx<0.25.0,>=0.24.0->supabase) (4.0.0)\n",
      "Requirement already satisfied: pydantic-core==2.6.3 in /Users/juan.abello/.pyenv/versions/3.8.16/lib/python3.8/site-packages (from pydantic<3,>=1.10->gotrue<2.0.0,>=1.0.3->supabase) (2.6.3)\n",
      "Requirement already satisfied: annotated-types>=0.4.0 in /Users/juan.abello/.pyenv/versions/3.8.16/lib/python3.8/site-packages (from pydantic<3,>=1.10->gotrue<2.0.0,>=1.0.3->supabase) (0.5.0)\n",
      "Requirement already satisfied: six>=1.5 in /Users/juan.abello/.pyenv/versions/3.8.16/lib/python3.8/site-packages (from python-dateutil<3.0.0,>=2.8.1->realtime<2.0.0,>=1.0.0->supabase) (1.16.0)\n",
      "Requirement already satisfied: exceptiongroup>=1.0.2 in /Users/juan.abello/.pyenv/versions/3.8.16/lib/python3.8/site-packages (from anyio<5.0,>=3.0->httpcore<0.18.0,>=0.15.0->httpx<0.25.0,>=0.24.0->supabase) (1.1.3)\n",
      "\u001b[33mWARNING: You are using pip version 22.0.4; however, version 23.2.1 is available.\n",
      "You should consider upgrading via the '/Users/juan.abello/.pyenv/versions/3.8.16/bin/python3.8 -m pip install --upgrade pip' command.\u001b[0m\u001b[33m\n",
      "\u001b[0m"
     ]
    }
   ],
   "source": [
    "!pip install supabase numpy"
   ]
  },
  {
   "cell_type": "code",
   "execution_count": 14,
   "metadata": {},
   "outputs": [],
   "source": [
    "import supabase\n",
    "import numpy as np"
   ]
  },
  {
   "cell_type": "code",
   "execution_count": 1,
   "metadata": {},
   "outputs": [],
   "source": [
    "from getpass import getpass\n",
    "SUPABASE_URL = getpass(\"Please provide your Supabase URL: \")\n",
    "SUPABASE_KEY = getpass(\"Please provide your Supabase Key: \")"
   ]
  },
  {
   "cell_type": "code",
   "execution_count": 16,
   "metadata": {},
   "outputs": [],
   "source": [
    "# Connect to the Supabase database\n",
    "supabase = supabase.create_client(SUPABASE_URL, SUPABASE_KEY)"
   ]
  },
  {
   "cell_type": "code",
   "execution_count": 17,
   "metadata": {},
   "outputs": [],
   "source": [
    "table = supabase.table(\"vector_database\")"
   ]
  },
  {
   "cell_type": "code",
   "execution_count": 22,
   "metadata": {},
   "outputs": [],
   "source": [
    "# CREATE A TABLE USING SQL EDITOR\n",
    "# CREATE TABLE vector_database (\n",
    "#  id SERIAL PRIMARY KEY,\n",
    "#  vector jsonb NOT NULL\n",
    "#);"
   ]
  },
  {
   "cell_type": "code",
   "execution_count": 21,
   "metadata": {},
   "outputs": [
    {
     "name": "stderr",
     "output_type": "stream",
     "text": [
      "2023-09-21 23:32:25,998:INFO - HTTP Request: POST https://ixnndfudrmqweuzvgjaq.supabase.co/rest/v1/vector_database \"HTTP/1.1 201 Created\"\n"
     ]
    },
    {
     "data": {
      "text/plain": [
       "APIResponse(data=[{'id': 1, 'vector': [1, 2]}], count=None)"
      ]
     },
     "execution_count": 21,
     "metadata": {},
     "output_type": "execute_result"
    }
   ],
   "source": [
    "# Create a new row in the vector database table\n",
    "row = {\n",
    "  \"vector\": np.array([1, 2]).tolist(),\n",
    "}\n",
    "\n",
    "# Insert the new row into the table\n",
    "supabase.from_(\"vector_database\").insert([row]).execute()"
   ]
  },
  {
   "cell_type": "code",
   "execution_count": null,
   "metadata": {},
   "outputs": [],
   "source": [
    "# Create a query vector\n",
    "query_vector = np.array([1, 2])\n",
    "\n",
    "# Create a query to perform the ANN search\n",
    "query = f\"\"\"\n",
    "SELECT *\n",
    "FROM vector_database\n",
    "ORDER BY cosine_similarity(vector, '%s') DESC\n",
    "LIMIT 10;\n",
    "\"\"\"\n",
    "\n",
    "# Execute the query and print the results\n",
    "results = supabase.rpc(query, params=[query_vector])\n",
    "\n",
    "print(results)\n",
    "for result in results:\n",
    "    print(result)"
   ]
  }
 ],
 "metadata": {
  "kernelspec": {
   "display_name": "Python 3",
   "language": "python",
   "name": "python3"
  },
  "language_info": {
   "codemirror_mode": {
    "name": "ipython",
    "version": 3
   },
   "file_extension": ".py",
   "mimetype": "text/x-python",
   "name": "python",
   "nbconvert_exporter": "python",
   "pygments_lexer": "ipython3",
   "version": "3.8.16"
  },
  "orig_nbformat": 4
 },
 "nbformat": 4,
 "nbformat_minor": 2
}
